{
  "nbformat": 4,
  "nbformat_minor": 0,
  "metadata": {
    "colab": {
      "provenance": [],
      "authorship_tag": "ABX9TyP6+Pl/kFPrGp7ww/hFNcV7",
      "include_colab_link": true
    },
    "kernelspec": {
      "name": "python3",
      "display_name": "Python 3"
    },
    "language_info": {
      "name": "python"
    }
  },
  "cells": [
    {
      "cell_type": "markdown",
      "metadata": {
        "id": "view-in-github",
        "colab_type": "text"
      },
      "source": [
        "<a href=\"https://colab.research.google.com/github/Manishagoyal48/CALCULATOR/blob/main/password_generator.ipynb\" target=\"_parent\"><img src=\"https://colab.research.google.com/assets/colab-badge.svg\" alt=\"Open In Colab\"/></a>"
      ]
    },
    {
      "cell_type": "code",
      "execution_count": null,
      "metadata": {
        "id": "1RqkCES8QM7n",
        "colab": {
          "base_uri": "https://localhost:8080/"
        },
        "outputId": "fc73fd0c-d0e0-4b62-d26c-2db34ef2268f"
      },
      "outputs": [
        {
          "output_type": "stream",
          "name": "stdout",
          "text": [
            "Welcome to the Password Generator!\n",
            "Enter the length of your password: 8\n",
            "Your generated password is: vrCGMde8\n"
          ]
        }
      ],
      "source": [
        "import random\n",
        "\n",
        "letters = \"abcdefghijklmnopqrstuvwxyzABCDEFGHIJKLMNOPQRSTUVWXYZ\"\n",
        "numbers = \"0123456789\"\n",
        "symbols = \"@#\"\n",
        "\n",
        "all_characters = letters + numbers + symbols\n",
        "\n",
        "print(\"Welcome to the Password Generator!\")\n",
        "length = input(\"Enter the length of your password: \")\n",
        "\n",
        "if length.isdigit():\n",
        "    length = int(length)\n",
        "\n",
        "    password = \"\"\n",
        "\n",
        "    for i in range(length):\n",
        "        password += random.choice(all_characters)\n",
        "\n",
        "\n",
        "    print(\"Your generated password is:\", password)\n",
        "else:\n",
        "    print(\"Please enter a valid number.\")\n",
        "\n"
      ]
    },
    {
      "cell_type": "code",
      "source": [],
      "metadata": {
        "id": "xxIwuDclxzLx"
      },
      "execution_count": null,
      "outputs": []
    }
  ]
}